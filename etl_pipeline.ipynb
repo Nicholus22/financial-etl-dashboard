# ETL Pipeline: Fetch, Clean, and Load Data

import requests
import pandas as pd
from sqlalchemy import create_engine

API_KEY = 'Ibh7Tz7ja6LX38vBBoh9HI9CimTtsdQt'
BASE_URL = 'https://financialmodelingprep.com/api/v3'

def fetch_income_statement(symbol):
    url = f"{BASE_URL}/income-statement/{symbol}?apikey={API_KEY}"
    response = requests.get(url)
    return pd.DataFrame(response.json())

def clean_data(df):
    df['date'] = pd.to_datetime(df['date'])
    df = df.fillna(0)
    return df

# Extracting data
symbol = 'AAPL'
income_df = fetch_income_statement(symbol)

# Clean the data
cleaned_data = clean_data(income_df)

# Save the data to SQLite
engine = create_engine('sqlite:///financials.db', echo=False)
cleaned_data.to_sql('AAPL_income_statement', con=engine, if_exists='replace', index=False)
